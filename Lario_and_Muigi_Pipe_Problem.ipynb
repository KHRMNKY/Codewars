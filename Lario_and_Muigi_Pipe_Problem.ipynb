{
  "nbformat": 4,
  "nbformat_minor": 0,
  "metadata": {
    "colab": {
      "provenance": [],
      "authorship_tag": "ABX9TyP0QuS3ybT6Z06Au4UwDjUO",
      "include_colab_link": true
    },
    "kernelspec": {
      "name": "python3",
      "display_name": "Python 3"
    },
    "language_info": {
      "name": "python"
    }
  },
  "cells": [
    {
      "cell_type": "markdown",
      "metadata": {
        "id": "view-in-github",
        "colab_type": "text"
      },
      "source": [
        "<a href=\"https://colab.research.google.com/github/kahramankaya/Codewars/blob/main/Lario_and_Muigi_Pipe_Problem.ipynb\" target=\"_parent\"><img src=\"https://colab.research.google.com/assets/colab-badge.svg\" alt=\"Open In Colab\"/></a>"
      ]
    },
    {
      "cell_type": "markdown",
      "source": [
        "url: https://www.codewars.com/kata/56b29582461215098d00000f/train/python"
      ],
      "metadata": {
        "id": "z9IfBXLZntCC"
      }
    },
    {
      "cell_type": "code",
      "execution_count": null,
      "metadata": {
        "id": "XQQpafSvnsCr"
      },
      "outputs": [],
      "source": [
        "def pipe_fix(nums):\n",
        "    list1=[]\n",
        "    i=min(nums)-1\n",
        "    for m in range(max(nums)-min(nums)+2):\n",
        "        i=i+1\n",
        "        if i<max(nums)+1:\n",
        "            list1.append(i)\n",
        "        else:\n",
        "            pass\n",
        "    return list1"
      ]
    }
  ]
}