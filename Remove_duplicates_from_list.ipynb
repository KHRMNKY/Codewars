{
  "cells": [
    {
      "cell_type": "markdown",
      "metadata": {
        "id": "view-in-github",
        "colab_type": "text"
      },
      "source": [
        "<a href=\"https://colab.research.google.com/github/kahramankaya/Codewars/blob/main/Remove_duplicates_from_list.ipynb\" target=\"_parent\"><img src=\"https://colab.research.google.com/assets/colab-badge.svg\" alt=\"Open In Colab\"/></a>"
      ]
    },
    {
      "cell_type": "markdown",
      "source": [
        "url:https://www.codewars.com/kata/57a5b0dfcf1fa526bb000118/train/python"
      ],
      "metadata": {
        "id": "hFTLMqljfdry"
      }
    },
    {
      "cell_type": "code",
      "source": [
        "\n",
        "def distinct(seq):\n",
        "    #set() data type is data type where only unique items stored in a collection.\n",
        "    return list(set(seq))"
      ],
      "metadata": {
        "id": "p_yxH2kWfbF4"
      },
      "execution_count": null,
      "outputs": []
    },
    {
      "cell_type": "code",
      "source": [],
      "metadata": {
        "id": "pfzHvOiHfbUz"
      },
      "execution_count": null,
      "outputs": []
    }
  ],
  "metadata": {
    "colab": {
      "name": "Colaboratory'ye Hoş Geldiniz",
      "provenance": [],
      "include_colab_link": true
    },
    "kernelspec": {
      "display_name": "Python 3",
      "name": "python3"
    }
  },
  "nbformat": 4,
  "nbformat_minor": 0
}