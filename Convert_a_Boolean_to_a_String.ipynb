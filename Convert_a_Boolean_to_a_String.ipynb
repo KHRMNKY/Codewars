{
  "cells": [
    {
      "cell_type": "markdown",
      "metadata": {
        "id": "view-in-github",
        "colab_type": "text"
      },
      "source": [
        "<a href=\"https://colab.research.google.com/github/kahramankaya/Codewars/blob/main/Convert_a_Boolean_to_a_String.ipynb\" target=\"_parent\"><img src=\"https://colab.research.google.com/assets/colab-badge.svg\" alt=\"Open In Colab\"/></a>"
      ]
    },
    {
      "cell_type": "markdown",
      "source": [
        "url: https://www.codewars.com/kata/551b4501ac0447318f0009cd/train/python\n"
      ],
      "metadata": {
        "id": "Ckg8Qwbhajtf"
      }
    },
    {
      "cell_type": "code",
      "source": [
        "def boolean_to_string(b):\n",
        "    if b==True or b==False:\n",
        "        return str(b)"
      ],
      "metadata": {
        "id": "pnADxBI_Zmbx"
      },
      "execution_count": 48,
      "outputs": []
    },
    {
      "cell_type": "code",
      "source": [],
      "metadata": {
        "id": "goI85iCMZnHI"
      },
      "execution_count": null,
      "outputs": []
    }
  ],
  "metadata": {
    "colab": {
      "name": "Colaboratory'ye Hoş Geldiniz",
      "provenance": [],
      "include_colab_link": true
    },
    "kernelspec": {
      "display_name": "Python 3",
      "name": "python3"
    }
  },
  "nbformat": 4,
  "nbformat_minor": 0
}