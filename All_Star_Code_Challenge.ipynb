{
  "cells": [
    {
      "cell_type": "markdown",
      "metadata": {
        "id": "view-in-github",
        "colab_type": "text"
      },
      "source": [
        "<a href=\"https://colab.research.google.com/github/kahramankaya/Codewars/blob/main/All_Star_Code_Challenge.ipynb\" target=\"_parent\"><img src=\"https://colab.research.google.com/assets/colab-badge.svg\" alt=\"Open In Colab\"/></a>"
      ]
    },
    {
      "cell_type": "markdown",
      "source": [
        "url: https://www.codewars.com/kata/5865918c6b569962950002a1/train/python"
      ],
      "metadata": {
        "id": "OAHSF6PEzo35"
      }
    },
    {
      "cell_type": "code",
      "source": [
        "def str_count(strng, letter):\n",
        "    list=[item for item in strng]\n",
        "    k=0\n",
        "    for m in list:\n",
        "        if m==letter:\n",
        "            k=k+1\n",
        "        else:\n",
        "            pass\n",
        "    return k"
      ],
      "metadata": {
        "id": "qtmLleY3zoj9"
      },
      "execution_count": null,
      "outputs": []
    }
  ],
  "metadata": {
    "colab": {
      "name": "Colaboratory'ye Hoş Geldiniz",
      "provenance": [],
      "include_colab_link": true
    },
    "kernelspec": {
      "display_name": "Python 3",
      "name": "python3"
    }
  },
  "nbformat": 4,
  "nbformat_minor": 0
}