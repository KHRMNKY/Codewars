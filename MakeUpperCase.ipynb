{
  "cells": [
    {
      "cell_type": "markdown",
      "metadata": {
        "id": "view-in-github",
        "colab_type": "text"
      },
      "source": [
        "<a href=\"https://colab.research.google.com/github/kahramankaya/Codewars/blob/main/MakeUpperCase.ipynb\" target=\"_parent\"><img src=\"https://colab.research.google.com/assets/colab-badge.svg\" alt=\"Open In Colab\"/></a>"
      ]
    },
    {
      "cell_type": "markdown",
      "source": [
        "url: https://www.codewars.com/kata/57a0556c7cb1f31ab3000ad7/train/python"
      ],
      "metadata": {
        "id": "K8pm9ie51DKn"
      }
    },
    {
      "cell_type": "code",
      "source": [
        "def make_upper_case(s):\n",
        "    y=s.upper()\n",
        "    return y"
      ],
      "metadata": {
        "id": "y2GSQP4F1BHf"
      },
      "execution_count": null,
      "outputs": []
    }
  ],
  "metadata": {
    "colab": {
      "name": "Colaboratory'ye Hoş Geldiniz",
      "provenance": [],
      "include_colab_link": true
    },
    "kernelspec": {
      "display_name": "Python 3",
      "name": "python3"
    }
  },
  "nbformat": 4,
  "nbformat_minor": 0
}