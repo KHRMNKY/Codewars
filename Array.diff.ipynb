{
  "nbformat": 4,
  "nbformat_minor": 0,
  "metadata": {
    "colab": {
      "provenance": [],
      "authorship_tag": "ABX9TyNqrAHgNt/fi8KBjBUprxmH",
      "include_colab_link": true
    },
    "kernelspec": {
      "name": "python3",
      "display_name": "Python 3"
    },
    "language_info": {
      "name": "python"
    }
  },
  "cells": [
    {
      "cell_type": "markdown",
      "metadata": {
        "id": "view-in-github",
        "colab_type": "text"
      },
      "source": [
        "<a href=\"https://colab.research.google.com/github/kahramankaya/Codewars/blob/main/Untitled0.ipynb\" target=\"_parent\"><img src=\"https://colab.research.google.com/assets/colab-badge.svg\" alt=\"Open In Colab\"/></a>"
      ]
    },
    {
      "cell_type": "code",
      "execution_count": null,
      "metadata": {
        "id": "rQWcfIKq4PBx"
      },
      "outputs": [],
      "source": [
        "#url:https://www.codewars.com/kata/523f5d21c841566fde000009/train/python\n",
        "\n",
        "def array_diff(a, b):\n",
        "    k=-1\n",
        "    for m in a:\n",
        "      k=k+1\n",
        "        for n in b:\n",
        "            if m==n:\n",
        "                a.pop(k)\n",
        "            elif n==[]:\n",
        "                pass\n",
        "            else:\n",
        "                pass\n",
        "    return a\n"
      ]
    }
  ]
}
