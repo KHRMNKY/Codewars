{
  "cells": [
    {
      "cell_type": "markdown",
      "metadata": {
        "id": "view-in-github",
        "colab_type": "text"
      },
      "source": [
        "<a href=\"https://colab.research.google.com/github/kahramankaya/Codewars/blob/main/Array.diff.ipynb.ipynb\" target=\"_parent\"><img src=\"https://colab.research.google.com/assets/colab-badge.svg\" alt=\"Open In Colab\"/></a>"
      ]
    },
    {
      "cell_type": "markdown",
      "source": [
        "url: https://www.codewars.com/kata/523f5d21c841566fde000009/train/python\n",
        "\n",
        "---\n",
        "\n"
      ],
      "metadata": {
        "id": "OUZTPi8864Vp"
      }
    },
    {
      "cell_type": "code",
      "source": [
        "def array_diff(a, b):\n",
        "    k=-1\n",
        "    for m in a:\n",
        "      k=k+1\n",
        "        for n in b:\n",
        "            if m==n:\n",
        "                a.pop(k)\n",
        "            elif n==[]:\n",
        "                pass\n",
        "            else:\n",
        "                pass\n",
        "    return a"
      ],
      "metadata": {
        "id": "9Ifkcd1w6xId"
      },
      "execution_count": null,
      "outputs": []
    }
  ],
  "metadata": {
    "colab": {
      "name": "Colaboratory'ye Hoş Geldiniz",
      "provenance": [],
      "include_colab_link": true
    },
    "kernelspec": {
      "display_name": "Python 3",
      "name": "python3"
    }
  },
  "nbformat": 4,
  "nbformat_minor": 0
}
