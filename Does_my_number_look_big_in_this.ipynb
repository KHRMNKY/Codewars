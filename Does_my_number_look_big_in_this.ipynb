{
  "cells": [
    {
      "cell_type": "markdown",
      "metadata": {
        "id": "view-in-github",
        "colab_type": "text"
      },
      "source": [
        "<a href=\"https://colab.research.google.com/github/kahramankaya/Codewars/blob/main/Does_my_number_look_big_in_this.ipynb\" target=\"_parent\"><img src=\"https://colab.research.google.com/assets/colab-badge.svg\" alt=\"Open In Colab\"/></a>"
      ]
    },
    {
      "cell_type": "markdown",
      "source": [
        "url: https://www.codewars.com/kata/5287e858c6b5a9678200083c/train/python"
      ],
      "metadata": {
        "id": "tK_xB-pkkbMb"
      }
    },
    {
      "cell_type": "code",
      "source": [
        "def narcissistic( value ):\n",
        "    list=[m for m in str(value)]\n",
        "    if sum(int(item)**len(list) for item in str(value))==value:\n",
        "        return True\n",
        "    else:\n",
        "        return False"
      ],
      "metadata": {
        "id": "jm_cEXeskXQh"
      },
      "execution_count": 2,
      "outputs": []
    },
    {
      "cell_type": "code",
      "source": [],
      "metadata": {
        "id": "InaZP-UakXPV"
      },
      "execution_count": null,
      "outputs": []
    }
  ],
  "metadata": {
    "colab": {
      "name": "Colaboratory'ye Hoş Geldiniz",
      "provenance": [],
      "include_colab_link": true
    },
    "kernelspec": {
      "display_name": "Python 3",
      "name": "python3"
    }
  },
  "nbformat": 4,
  "nbformat_minor": 0
}