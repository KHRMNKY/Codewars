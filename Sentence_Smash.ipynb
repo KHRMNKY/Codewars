{
  "cells": [
    {
      "cell_type": "markdown",
      "metadata": {
        "id": "view-in-github",
        "colab_type": "text"
      },
      "source": [
        "<a href=\"https://colab.research.google.com/github/kahramankaya/Codewars/blob/main/Sentence_Smash.ipynb\" target=\"_parent\"><img src=\"https://colab.research.google.com/assets/colab-badge.svg\" alt=\"Open In Colab\"/></a>"
      ]
    },
    {
      "cell_type": "markdown",
      "source": [
        "url: https://www.codewars.com/kata/53dc23c68a0c93699800041d/train/python"
      ],
      "metadata": {
        "id": "Eze3QP6XEa0c"
      }
    },
    {
      "cell_type": "code",
      "source": [
        "def smash(words):\n",
        "    result=\"\"\n",
        "    for m in words:\n",
        "        result=result+ m + \" \"\n",
        "    return result.rstrip()"
      ],
      "metadata": {
        "id": "yNQxh06RqWAL"
      },
      "execution_count": null,
      "outputs": []
    },
    {
      "cell_type": "code",
      "source": [
        "#2nd solution\n",
        "def smash(words):\n",
        "    seperator=\" \"\n",
        "    result=seperator.join(words)\n",
        "    return result"
      ],
      "metadata": {
        "id": "43Yrnr9RAwCJ"
      },
      "execution_count": null,
      "outputs": []
    }
  ],
  "metadata": {
    "colab": {
      "provenance": [],
      "include_colab_link": true
    },
    "kernelspec": {
      "display_name": "Python 3",
      "name": "python3"
    }
  },
  "nbformat": 4,
  "nbformat_minor": 0
}