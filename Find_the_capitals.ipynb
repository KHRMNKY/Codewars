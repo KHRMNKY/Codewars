{
  "cells": [
    {
      "cell_type": "markdown",
      "metadata": {
        "id": "view-in-github",
        "colab_type": "text"
      },
      "source": [
        "<a href=\"https://colab.research.google.com/github/kahramankaya/Codewars/blob/main/Find_the_capitals.ipynb\" target=\"_parent\"><img src=\"https://colab.research.google.com/assets/colab-badge.svg\" alt=\"Open In Colab\"/></a>"
      ]
    },
    {
      "cell_type": "markdown",
      "source": [
        "url:https://www.codewars.com/kata/539ee3b6757843632d00026b/train/python"
      ],
      "metadata": {
        "id": "ko0ADA-Eipjr"
      }
    },
    {
      "cell_type": "code",
      "source": [
        "def capitals(word):\n",
        "    list1=[]\n",
        "    a=word\n",
        "    b=word.upper()\n",
        "    i=-1\n",
        "    for m in range(0,len(word)):\n",
        "        i=i+1\n",
        "        if a[i]==b[i]:\n",
        "            list1.append(i)\n",
        "        else:\n",
        "            pass\n",
        "    return list1"
      ],
      "metadata": {
        "id": "lWzlr9x4ipCK"
      },
      "execution_count": null,
      "outputs": []
    }
  ],
  "metadata": {
    "colab": {
      "name": "Colaboratory'ye Hoş Geldiniz",
      "provenance": [],
      "include_colab_link": true
    },
    "kernelspec": {
      "display_name": "Python 3",
      "name": "python3"
    }
  },
  "nbformat": 4,
  "nbformat_minor": 0
}