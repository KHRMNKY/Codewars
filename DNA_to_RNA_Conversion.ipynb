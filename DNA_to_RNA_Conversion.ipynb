{
  "cells": [
    {
      "cell_type": "markdown",
      "metadata": {
        "id": "view-in-github",
        "colab_type": "text"
      },
      "source": [
        "<a href=\"https://colab.research.google.com/github/kahramankaya/Codewars/blob/main/DNA_to_RNA_Conversion.ipynb\" target=\"_parent\"><img src=\"https://colab.research.google.com/assets/colab-badge.svg\" alt=\"Open In Colab\"/></a>"
      ]
    },
    {
      "cell_type": "markdown",
      "source": [
        "url: https://www.codewars.com/kata/5556282156230d0e5e000089/train/python"
      ],
      "metadata": {
        "id": "N7s5dj0F6jJa"
      }
    },
    {
      "cell_type": "code",
      "source": [
        "def dna_to_rna(dna):\n",
        "    list1=[m for m in dna]\n",
        "    list2=[]\n",
        "    for item in list1:\n",
        "        if item==\"T\":\n",
        "            list2.append(\"U\")\n",
        "\n",
        "        else:\n",
        "            list2.append(item)\n",
        "        i=-1\n",
        "        ş=\"\"\n",
        "        for k in list2:\n",
        "            i=i+1\n",
        "            ş=ş+list2[i]\n",
        "    return ş"
      ],
      "metadata": {
        "id": "Ifl4BY3Y2fBV"
      },
      "execution_count": 16,
      "outputs": []
    }
  ],
  "metadata": {
    "colab": {
      "name": "Colaboratory'ye Hoş Geldiniz",
      "provenance": [],
      "include_colab_link": true
    },
    "kernelspec": {
      "display_name": "Python 3",
      "name": "python3"
    }
  },
  "nbformat": 4,
  "nbformat_minor": 0
}