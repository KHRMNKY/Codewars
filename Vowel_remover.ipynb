{
  "nbformat": 4,
  "nbformat_minor": 0,
  "metadata": {
    "colab": {
      "provenance": [],
      "authorship_tag": "ABX9TyPdI13XCVEIR8LVzA3oKbdt",
      "include_colab_link": true
    },
    "kernelspec": {
      "name": "python3",
      "display_name": "Python 3"
    },
    "language_info": {
      "name": "python"
    }
  },
  "cells": [
    {
      "cell_type": "markdown",
      "metadata": {
        "id": "view-in-github",
        "colab_type": "text"
      },
      "source": [
        "<a href=\"https://colab.research.google.com/github/kahramankaya/Codewars/blob/main/Vowel_remover.ipynb\" target=\"_parent\"><img src=\"https://colab.research.google.com/assets/colab-badge.svg\" alt=\"Open In Colab\"/></a>"
      ]
    },
    {
      "cell_type": "markdown",
      "source": [
        "url: https://www.codewars.com/kata/5547929140907378f9000039/train/python"
      ],
      "metadata": {
        "id": "I1Kyr5ASqzrU"
      }
    },
    {
      "cell_type": "code",
      "execution_count": 7,
      "metadata": {
        "id": "A0DSnowGpZaV"
      },
      "outputs": [],
      "source": [
        "def shortcut( s ):\n",
        "    lowercase=[\"a\",\"e\",\"i\",\"o\",\"u\"]\n",
        "    list=[m for m in s]\n",
        "    list1=list.copy()\n",
        "    for n in list:\n",
        "        for k in lowercase:\n",
        "            if n==k:\n",
        "                list1.remove(n)\n",
        "\n",
        "            else:\n",
        "                pass\n",
        "    h=\"\"\n",
        "    for ş in list1:\n",
        "        h=h+ş\n",
        "\n",
        "    return h\n"
      ]
    }
  ]
}