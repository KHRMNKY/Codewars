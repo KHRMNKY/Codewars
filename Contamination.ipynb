{
  "cells": [
    {
      "cell_type": "markdown",
      "metadata": {
        "id": "view-in-github",
        "colab_type": "text"
      },
      "source": [
        "<a href=\"https://colab.research.google.com/github/kahramankaya/Codewars/blob/main/Contamination.ipynb\" target=\"_parent\"><img src=\"https://colab.research.google.com/assets/colab-badge.svg\" alt=\"Open In Colab\"/></a>"
      ]
    },
    {
      "cell_type": "markdown",
      "source": [
        "url: https://www.codewars.com/kata/596fba44963025c878000039/train/python"
      ],
      "metadata": {
        "id": "MRwIOgkEu0Ea"
      }
    },
    {
      "cell_type": "code",
      "source": [
        "def contamination(text, char):\n",
        "    if text==\"\" or char==\"\":\n",
        "        return \"\"\n",
        "    else:\n",
        "        text=len(text)*char\n",
        "        return text"
      ],
      "metadata": {
        "id": "8m4QfRUWu0R8"
      },
      "execution_count": null,
      "outputs": []
    }
  ],
  "metadata": {
    "colab": {
      "name": "Colaboratory'ye Hoş Geldiniz",
      "provenance": [],
      "include_colab_link": true
    },
    "kernelspec": {
      "display_name": "Python 3",
      "name": "python3"
    }
  },
  "nbformat": 4,
  "nbformat_minor": 0
}