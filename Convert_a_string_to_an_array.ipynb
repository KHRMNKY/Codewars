{
  "cells": [
    {
      "cell_type": "markdown",
      "metadata": {
        "id": "view-in-github",
        "colab_type": "text"
      },
      "source": [
        "<a href=\"https://colab.research.google.com/github/kahramankaya/Codewars/blob/main/Convert_a_string_to_an_array.ipynb\" target=\"_parent\"><img src=\"https://colab.research.google.com/assets/colab-badge.svg\" alt=\"Open In Colab\"/></a>"
      ]
    },
    {
      "cell_type": "markdown",
      "source": [
        "url: https://www.codewars.com/kata/57e76bc428d6fbc2d500036d/train/python"
      ],
      "metadata": {
        "id": "jB4fAFZS4dth"
      }
    },
    {
      "cell_type": "code",
      "source": [
        "def string_to_array(s):\n",
        "    if len(s)>0:\n",
        "        return s.split(\" \")"
      ],
      "metadata": {
        "id": "53KmRWH8qWD7"
      },
      "execution_count": 1,
      "outputs": []
    },
    {
      "cell_type": "code",
      "source": [
        "def string_to_array(s):\n",
        "    if len(s)>0:\n",
        "        return s.split()\n",
        "    else:\n",
        "        return [s]"
      ],
      "metadata": {
        "id": "yNQxh06RqWAL"
      },
      "execution_count": 2,
      "outputs": []
    }
  ],
  "metadata": {
    "colab": {
      "name": "Colaboratory'ye Hoş Geldiniz",
      "provenance": [],
      "include_colab_link": true
    },
    "kernelspec": {
      "display_name": "Python 3",
      "name": "python3"
    }
  },
  "nbformat": 4,
  "nbformat_minor": 0
}