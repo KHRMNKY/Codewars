{
  "cells": [
    {
      "cell_type": "markdown",
      "metadata": {
        "id": "view-in-github",
        "colab_type": "text"
      },
      "source": [
        "<a href=\"https://colab.research.google.com/github/kahramankaya/Codewars/blob/main/Who_is_going_to_pay_for_the_wall.ipynb\" target=\"_parent\"><img src=\"https://colab.research.google.com/assets/colab-badge.svg\" alt=\"Open In Colab\"/></a>"
      ]
    },
    {
      "cell_type": "markdown",
      "source": [
        "url: https://www.codewars.com/kata/58bf9bd943fadb2a980000a7/train/python"
      ],
      "metadata": {
        "id": "tK_xB-pkkbMb"
      }
    },
    {
      "cell_type": "code",
      "source": [
        "def who_is_paying(name):\n",
        "    lst=[item for item in name]\n",
        "    if len(lst)<=2:\n",
        "        return [name]\n",
        "    else:\n",
        "        return [name,name[0:2]]"
      ],
      "metadata": {
        "id": "jm_cEXeskXQh"
      },
      "execution_count": null,
      "outputs": []
    },
    {
      "cell_type": "code",
      "source": [],
      "metadata": {
        "id": "InaZP-UakXPV"
      },
      "execution_count": null,
      "outputs": []
    }
  ],
  "metadata": {
    "colab": {
      "name": "Colaboratory'ye Hoş Geldiniz",
      "provenance": [],
      "include_colab_link": true
    },
    "kernelspec": {
      "display_name": "Python 3",
      "name": "python3"
    }
  },
  "nbformat": 4,
  "nbformat_minor": 0
}