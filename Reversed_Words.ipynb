{
  "cells": [
    {
      "cell_type": "markdown",
      "metadata": {
        "id": "view-in-github",
        "colab_type": "text"
      },
      "source": [
        "<a href=\"https://colab.research.google.com/github/kahramankaya/Codewars/blob/main/Reversed_Words.ipynb\" target=\"_parent\"><img src=\"https://colab.research.google.com/assets/colab-badge.svg\" alt=\"Open In Colab\"/></a>"
      ]
    },
    {
      "cell_type": "markdown",
      "source": [
        "url: https://www.codewars.com/kata/51c8991dee245d7ddf00000e/train/python"
      ],
      "metadata": {
        "id": "QefquEvs1iD0"
      }
    },
    {
      "cell_type": "code",
      "source": [
        "def reversed_words(string):\n",
        "  list1=string.split(\" \")\n",
        "  list2=[]\n",
        "  split=\" \"\n",
        "  for m in list1[::-1]:\n",
        "    list2.append(m)\n",
        "  list3=\" \".join(list2)\n",
        "  return list3\n",
        "\n",
        "reversed_words(\"The greatest victory is that which requires no battle\")"
      ],
      "metadata": {
        "id": "DGV_hGu_wEAN",
        "outputId": "c01806ea-e532-4ec9-94d1-9ecb25a18a20",
        "colab": {
          "base_uri": "https://localhost:8080/",
          "height": 36
        }
      },
      "execution_count": 6,
      "outputs": [
        {
          "output_type": "execute_result",
          "data": {
            "text/plain": [
              "'battle no requires which that is victory greatest The'"
            ],
            "application/vnd.google.colaboratory.intrinsic+json": {
              "type": "string"
            }
          },
          "metadata": {},
          "execution_count": 6
        }
      ]
    },
    {
      "cell_type": "code",
      "source": [],
      "metadata": {
        "id": "SLFh9O7rwD2r"
      },
      "execution_count": null,
      "outputs": []
    }
  ],
  "metadata": {
    "colab": {
      "name": "Colaboratory'ye Hoş Geldiniz",
      "toc_visible": true,
      "provenance": [],
      "include_colab_link": true
    },
    "kernelspec": {
      "display_name": "Python 3",
      "name": "python3"
    }
  },
  "nbformat": 4,
  "nbformat_minor": 0
}