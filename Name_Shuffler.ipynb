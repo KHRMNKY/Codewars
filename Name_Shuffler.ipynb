{
  "cells": [
    {
      "cell_type": "markdown",
      "metadata": {
        "id": "view-in-github",
        "colab_type": "text"
      },
      "source": [
        "<a href=\"https://colab.research.google.com/github/kahramankaya/Codewars/blob/main/Name_Shuffler.ipynb\" target=\"_parent\"><img src=\"https://colab.research.google.com/assets/colab-badge.svg\" alt=\"Open In Colab\"/></a>"
      ]
    },
    {
      "cell_type": "markdown",
      "source": [
        "url: https://www.codewars.com/kata/559ac78160f0be07c200005a/train/python"
      ],
      "metadata": {
        "id": "VADsLKab9Xd0"
      }
    },
    {
      "cell_type": "code",
      "source": [
        "def name_shuffler(str_):\n",
        "    list1=str_.split()\n",
        "    list2=[]\n",
        "    for m in list1:\n",
        "        if m==list1[1]:\n",
        "            list2.append(m)\n",
        "            list2.append(list1[0])\n",
        "        else:\n",
        "            pass\n",
        "    return list2[0]+\" \"+list2[1]"
      ],
      "metadata": {
        "id": "V_4mjhPLtOrX"
      },
      "execution_count": 34,
      "outputs": []
    },
    {
      "cell_type": "code",
      "source": [],
      "metadata": {
        "id": "iCh_VJJ-2e-k"
      },
      "execution_count": null,
      "outputs": []
    },
    {
      "cell_type": "code",
      "source": [],
      "metadata": {
        "id": "Ifl4BY3Y2fBV"
      },
      "execution_count": null,
      "outputs": []
    }
  ],
  "metadata": {
    "colab": {
      "name": "Colaboratory'ye Hoş Geldiniz",
      "provenance": [],
      "include_colab_link": true
    },
    "kernelspec": {
      "display_name": "Python 3",
      "name": "python3"
    }
  },
  "nbformat": 4,
  "nbformat_minor": 0
}