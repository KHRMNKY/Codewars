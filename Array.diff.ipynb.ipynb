{
  "cells": [
    {
      "cell_type": "markdown",
      "metadata": {
        "id": "view-in-github",
        "colab_type": "text"
      },
      "source": [
        "<a href=\"https://colab.research.google.com/github/kahramankaya/Codewars/blob/main/Array.diff.ipynb.ipynb\" target=\"_parent\"><img src=\"https://colab.research.google.com/assets/colab-badge.svg\" alt=\"Open In Colab\"/></a>"
      ]
    },
    {
      "cell_type": "markdown",
      "source": [
        "url: https://www.codewars.com/kata/523f5d21c841566fde000009/train/python\n",
        "\n",
        "---\n",
        "\n"
      ],
      "metadata": {
        "id": "OUZTPi8864Vp"
      }
    },
    {
      "cell_type": "code",
      "source": [
        "def array_diff(a, b):\n",
        "  c=a.copy()\n",
        "  for m in a:\n",
        "    for n in b:\n",
        "      if m==n:\n",
        "        c.remove(m)\n",
        "      else:\n",
        "          pass\n",
        "  return c\n",
        "\n",
        "array_diff(a, b)"
      ],
      "metadata": {
        "id": "9Ifkcd1w6xId",
        "colab": {
          "base_uri": "https://localhost:8080/"
        },
        "outputId": "6a758edb-ef74-4545-a6ba-8655d427dc7c"
      },
      "execution_count": 22,
      "outputs": [
        {
          "output_type": "execute_result",
          "data": {
            "text/plain": [
              "[]"
            ]
          },
          "metadata": {},
          "execution_count": 22
        }
      ]
    }
  ],
  "metadata": {
    "colab": {
      "name": "Colaboratory'ye Hoş Geldiniz",
      "provenance": [],
      "include_colab_link": true
    },
    "kernelspec": {
      "display_name": "Python 3",
      "name": "python3"
    }
  },
  "nbformat": 4,
  "nbformat_minor": 0
}