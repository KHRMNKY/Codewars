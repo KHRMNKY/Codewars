{
  "nbformat": 4,
  "nbformat_minor": 0,
  "metadata": {
    "colab": {
      "provenance": [],
      "authorship_tag": "ABX9TyNI1ubTS30fC7YcvvgIUfZU",
      "include_colab_link": true
    },
    "kernelspec": {
      "name": "python3",
      "display_name": "Python 3"
    },
    "language_info": {
      "name": "python"
    }
  },
  "cells": [
    {
      "cell_type": "markdown",
      "metadata": {
        "id": "view-in-github",
        "colab_type": "text"
      },
      "source": [
        "<a href=\"https://colab.research.google.com/github/kahramankaya/Codewars/blob/main/Fake_Binary.ipynb\" target=\"_parent\"><img src=\"https://colab.research.google.com/assets/colab-badge.svg\" alt=\"Open In Colab\"/></a>"
      ]
    },
    {
      "cell_type": "markdown",
      "source": [
        "\n",
        "url:https://www.codewars.com/kata/57eae65a4321032ce000002d/train/python\n",
        "---\n",
        "\n"
      ],
      "metadata": {
        "id": "utz16RJZSHma"
      }
    },
    {
      "cell_type": "code",
      "execution_count": null,
      "metadata": {
        "id": "kEx0lPmQSGks"
      },
      "outputs": [],
      "source": [
        "def fake_bin(x):\n",
        "    result=\"\"\n",
        "    for m in x:\n",
        "        if int(m)>=5:\n",
        "            result=result+\"1\"\n",
        "        else:\n",
        "            result=result+\"0\"\n",
        "    return result"
      ]
    }
  ]
}