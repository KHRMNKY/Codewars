{
  "nbformat": 4,
  "nbformat_minor": 0,
  "metadata": {
    "colab": {
      "provenance": [],
      "authorship_tag": "ABX9TyPSKM4voR9MKYXYYFBAhHVt",
      "include_colab_link": true
    },
    "kernelspec": {
      "name": "python3",
      "display_name": "Python 3"
    },
    "language_info": {
      "name": "python"
    }
  },
  "cells": [
    {
      "cell_type": "markdown",
      "metadata": {
        "id": "view-in-github",
        "colab_type": "text"
      },
      "source": [
        "<a href=\"https://colab.research.google.com/github/kahramankaya/Codewars/blob/main/List_Filtering.ipynb\" target=\"_parent\"><img src=\"https://colab.research.google.com/assets/colab-badge.svg\" alt=\"Open In Colab\"/></a>"
      ]
    },
    {
      "cell_type": "markdown",
      "source": [
        "url: https://www.codewars.com/kata/53dbd5315a3c69eed20002dd/train/python"
      ],
      "metadata": {
        "id": "8pQUFciJL_ib"
      }
    },
    {
      "cell_type": "code",
      "execution_count": 2,
      "metadata": {
        "id": "nKgYg0mzL7EP"
      },
      "outputs": [],
      "source": [
        "def filter_list(l):\n",
        "    filtered_list=l.copy()\n",
        "    for item in l:\n",
        "        p=type(item)\n",
        "        if p==str:\n",
        "            filtered_list.remove(item)\n",
        "        else:\n",
        "            pass\n",
        "    return filtered_list"
      ]
    }
  ]
}