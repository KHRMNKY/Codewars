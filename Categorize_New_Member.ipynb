{
  "nbformat": 4,
  "nbformat_minor": 0,
  "metadata": {
    "colab": {
      "provenance": [],
      "authorship_tag": "ABX9TyPPOOkYdgEXoxzQtRP2ml5U",
      "include_colab_link": true
    },
    "kernelspec": {
      "name": "python3",
      "display_name": "Python 3"
    },
    "language_info": {
      "name": "python"
    }
  },
  "cells": [
    {
      "cell_type": "markdown",
      "metadata": {
        "id": "view-in-github",
        "colab_type": "text"
      },
      "source": [
        "<a href=\"https://colab.research.google.com/github/kahramankaya/Codewars/blob/main/Categorize_New_Member.ipynb\" target=\"_parent\"><img src=\"https://colab.research.google.com/assets/colab-badge.svg\" alt=\"Open In Colab\"/></a>"
      ]
    },
    {
      "cell_type": "markdown",
      "source": [
        "url: https://www.codewars.com/kata/5502c9e7b3216ec63c0001aa/train/python\n"
      ],
      "metadata": {
        "id": "ln2GxllGVVWi"
      }
    },
    {
      "cell_type": "code",
      "execution_count": null,
      "metadata": {
        "id": "LOM_FiRdVUMe"
      },
      "outputs": [],
      "source": [
        "def open_or_senior(data):\n",
        "    result=[]\n",
        "    for item1,item2 in data:\n",
        "        if item1>=55 and item2>7:\n",
        "            result.append(\"Senior\")\n",
        "        else:\n",
        "            result.append(\"Open\")\n",
        "    return result"
      ]
    }
  ]
}