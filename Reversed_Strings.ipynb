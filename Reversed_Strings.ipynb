{
  "cells": [
    {
      "cell_type": "markdown",
      "metadata": {
        "id": "view-in-github",
        "colab_type": "text"
      },
      "source": [
        "<a href=\"https://colab.research.google.com/github/kahramankaya/Codewars/blob/main/Reversed_Strings.ipynb\" target=\"_parent\"><img src=\"https://colab.research.google.com/assets/colab-badge.svg\" alt=\"Open In Colab\"/></a>"
      ]
    },
    {
      "cell_type": "markdown",
      "source": [
        "url: https://www.codewars.com/kata/5168bb5dfe9a00b126000018/train/python"
      ],
      "metadata": {
        "id": "qDwwef0yByhW"
      }
    },
    {
      "cell_type": "code",
      "source": [
        "def solution(string):\n",
        "    i=0\n",
        "    list1=[]\n",
        "    for m in string:\n",
        "        i=i-1\n",
        "        list1.append(string[i])\n",
        "    ş=\"\"\n",
        "    for k in list1:\n",
        "        ş=ş+k\n",
        "    return ş"
      ],
      "metadata": {
        "id": "3eAZI7_N-EIz"
      },
      "execution_count": 7,
      "outputs": []
    },
    {
      "cell_type": "code",
      "source": [],
      "metadata": {
        "id": "Tmd3ZPKP-EF9"
      },
      "execution_count": null,
      "outputs": []
    },
    {
      "cell_type": "code",
      "source": [],
      "metadata": {
        "id": "vrWgJ0yj-EEu"
      },
      "execution_count": null,
      "outputs": []
    },
    {
      "cell_type": "code",
      "source": [],
      "metadata": {
        "id": "oxrJve8U-EDW"
      },
      "execution_count": null,
      "outputs": []
    }
  ],
  "metadata": {
    "colab": {
      "name": "Colaboratory'ye Hoş Geldiniz",
      "provenance": [],
      "include_colab_link": true
    },
    "kernelspec": {
      "display_name": "Python 3",
      "name": "python3"
    }
  },
  "nbformat": 4,
  "nbformat_minor": 0
}